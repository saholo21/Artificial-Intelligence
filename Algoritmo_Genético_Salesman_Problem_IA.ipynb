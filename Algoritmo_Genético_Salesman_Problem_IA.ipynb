{
  "nbformat": 4,
  "nbformat_minor": 0,
  "metadata": {
    "colab": {
      "name": "Algoritmo Genético - Salesman Problem IA.ipynb",
      "provenance": [],
      "collapsed_sections": [],
      "include_colab_link": true
    },
    "kernelspec": {
      "name": "python3",
      "display_name": "Python 3"
    },
    "language_info": {
      "name": "python"
    }
  },
  "cells": [
    {
      "cell_type": "markdown",
      "metadata": {
        "id": "view-in-github",
        "colab_type": "text"
      },
      "source": [
        "<a href=\"https://colab.research.google.com/github/saholo21/Artificial-Intelligence/blob/main/Algoritmo_Gen%C3%A9tico_Salesman_Problem_IA.ipynb\" target=\"_parent\"><img src=\"https://colab.research.google.com/assets/colab-badge.svg\" alt=\"Open In Colab\"/></a>"
      ]
    },
    {
      "cell_type": "markdown",
      "metadata": {
        "id": "vdtUE7wlsG1U"
      },
      "source": [
        "# Problema de la mochila con algoritmos genéticos"
      ]
    },
    {
      "cell_type": "markdown",
      "metadata": {
        "id": "rpXs5PIco1Ex"
      },
      "source": [
        "Supondremos que tenemos N productos para poner en la mochila, cada producto tiene un peso y un precio. La mochila tiene un peso máximo permitido.\n",
        "Para esto tenemos una lista con los N pesos (weights) y otra con los N precios (prices)."
      ]
    },
    {
      "cell_type": "code",
      "metadata": {
        "id": "dXOsFCzkmb2X"
      },
      "source": [
        "import numpy as np\n",
        "import pandas as pd\n",
        "import plotly.express as px"
      ],
      "execution_count": null,
      "outputs": []
    },
    {
      "cell_type": "markdown",
      "metadata": {
        "id": "9HmK4EHDsYQ7"
      },
      "source": [
        "Generar variables aleatorias con vectores de pesos y precios suponiendo que se tienen 10 Productos."
      ]
    },
    {
      "cell_type": "markdown",
      "metadata": {
        "id": "WleLHtpDplrD"
      },
      "source": [
        "Ejemplo: Se suponen N productos en una mochila con una capacidad W. Por defecto pondremos N=10 y W= 15 kg"
      ]
    },
    {
      "cell_type": "code",
      "metadata": {
        "id": "eYpHUwbns8iK"
      },
      "source": [
        "#@title Introduzca los valores de N (cantidad de productos), W en kg permitidos para la mochila\n",
        "N = 10 #@param {type:\"integer\"}\n",
        "W = 15 #@param {type:\"integer\"}\n",
        "\n"
      ],
      "execution_count": null,
      "outputs": []
    },
    {
      "cell_type": "code",
      "metadata": {
        "id": "HmkIvDEWxU48"
      },
      "source": [
        "#@title Rango de precios\n",
        "\n",
        "minprice = 1 #@param {type:\"number\"}\n",
        "maxprice = 100 #@param {type:\"number\"}"
      ],
      "execution_count": null,
      "outputs": []
    },
    {
      "cell_type": "markdown",
      "metadata": {
        "id": "ioE7hODzuiOa"
      },
      "source": [
        "Generar los vectores ***weights*** y ***prices*** aleatorios"
      ]
    },
    {
      "cell_type": "markdown",
      "metadata": {
        "id": "uGCWYkcQl05r"
      },
      "source": [
        "## Generar población\n",
        "Inicializar una población de tamaño N, cromosoma aleatorio binario"
      ]
    },
    {
      "cell_type": "code",
      "metadata": {
        "id": "18TImmS0uKNC"
      },
      "source": [
        "#@title Introduzca tamaño de la población, para generar la misma\n",
        "NP =  30#@param {type:\"integer\"}"
      ],
      "execution_count": null,
      "outputs": []
    },
    {
      "cell_type": "markdown",
      "metadata": {
        "id": "XcxiSVEUL9W-"
      },
      "source": [
        "Este algoritmo genético parará en un número de generaciones determinado, se guardará el mejor individuo de cada población y se devolverá el mejor de todos."
      ]
    },
    {
      "cell_type": "code",
      "metadata": {
        "id": "3c6RJI6k49Lx"
      },
      "source": [
        "#@title Introduzca la cantidad de generaciones para el algoritmo\n",
        "generations = 300 #@param {type:\"integer\"}"
      ],
      "execution_count": null,
      "outputs": []
    },
    {
      "cell_type": "code",
      "metadata": {
        "id": "xVu429mwNdP_"
      },
      "source": [
        "#@title Texto de título predeterminado\n",
        "mutation_probability = 0.1 #@param {type:\"number\"}\n",
        "crossover_probability = 0.9 #@param {type:\"number\"}\n"
      ],
      "execution_count": null,
      "outputs": []
    },
    {
      "cell_type": "markdown",
      "metadata": {
        "id": "RC6vmFsKUyZu"
      },
      "source": [
        "## Clase agrupando todo los métodos anteriores, para generalizar para problemas con individuos binarios."
      ]
    },
    {
      "cell_type": "markdown",
      "source": [
        "#Problema del vendedor\n"
      ],
      "metadata": {
        "id": "HMGGBKPz9HFr"
      }
    },
    {
      "cell_type": "code",
      "source": [
        "import random\n",
        "ciudades = [\"A\", \"B\", \"C\", \"D\", \"E\", \"F\", \"G\", \"H\", \"I\", \"J\"]\n",
        "ciudades_dic = {\"A\": {}, \"B\":{}, \"C\":{}, \"D\":{}, \"E\":{}, \"F\":{}, \"G\":{}, \"H\":{}, \"I\":{}, \"J\":{}}\n",
        "\n",
        "for i in ciudades_dic:\n",
        "  for j in ciudades:\n",
        "    while n == 0:\n",
        "      n = np.random.randint(0,10)\n",
        "    ciudades_dic[i][j] = n\n",
        "    n = 0\n",
        "\n",
        "print(\"ciudades_dic: \", ciudades_dic)\n",
        "ciudad_origen = ciudades[0]\n",
        "numero_ciudades = len(ciudades)\n",
        "ciudades_sin_origen = ciudades.copy()[1:]\n",
        "print(ciudades_sin_origen)\n",
        "\n"
      ],
      "metadata": {
        "colab": {
          "base_uri": "https://localhost:8080/"
        },
        "id": "GdyKklkeXxwj",
        "outputId": "62d87dc2-88d6-47a1-83e0-d9bd11a3b54e"
      },
      "execution_count": null,
      "outputs": [
        {
          "output_type": "stream",
          "name": "stdout",
          "text": [
            "ciudades_dic:  {'A': {'A': 5, 'B': 5, 'C': 9, 'D': 8, 'E': 7, 'F': 9, 'G': 3, 'H': 9, 'I': 5, 'J': 7}, 'B': {'A': 4, 'B': 8, 'C': 3, 'D': 5, 'E': 6, 'F': 7, 'G': 7, 'H': 1, 'I': 4, 'J': 2}, 'C': {'A': 8, 'B': 7, 'C': 7, 'D': 1, 'E': 9, 'F': 3, 'G': 2, 'H': 3, 'I': 7, 'J': 2}, 'D': {'A': 7, 'B': 8, 'C': 1, 'D': 9, 'E': 6, 'F': 1, 'G': 8, 'H': 2, 'I': 4, 'J': 7}, 'E': {'A': 3, 'B': 9, 'C': 3, 'D': 4, 'E': 5, 'F': 7, 'G': 3, 'H': 4, 'I': 5, 'J': 9}, 'F': {'A': 5, 'B': 6, 'C': 5, 'D': 2, 'E': 1, 'F': 6, 'G': 9, 'H': 2, 'I': 5, 'J': 7}, 'G': {'A': 1, 'B': 4, 'C': 4, 'D': 7, 'E': 2, 'F': 7, 'G': 5, 'H': 7, 'I': 6, 'J': 3}, 'H': {'A': 7, 'B': 8, 'C': 9, 'D': 7, 'E': 9, 'F': 3, 'G': 6, 'H': 8, 'I': 8, 'J': 4}, 'I': {'A': 4, 'B': 7, 'C': 2, 'D': 8, 'E': 1, 'F': 3, 'G': 1, 'H': 9, 'I': 3, 'J': 5}, 'J': {'A': 7, 'B': 3, 'C': 9, 'D': 4, 'E': 3, 'F': 4, 'G': 4, 'H': 6, 'I': 1, 'J': 5}}\n",
            "['B', 'C', 'D', 'E', 'F', 'G', 'H', 'I', 'J']\n"
          ]
        }
      ]
    },
    {
      "cell_type": "code",
      "source": [
        "class Genetic_Algorithm ():\n",
        "  def __init__(self, sizeIndividual, sizePopulation=100, generations=400, mutation_probability=0.1, crossover_probability=0.9):\n",
        "    self.sizeIndividual= sizeIndividual\n",
        "    self.sizePopulation = sizePopulation\n",
        "    self.generations = generations\n",
        "    self.mutation_probability=mutation_probability\n",
        "    self.crossover_probability=crossover_probability\n",
        "\n",
        "  def fitnessFunct(self,x):\n",
        "    #return sum(x*prices)\n",
        "    pass\n",
        "\n",
        "  def valid(self, x):\n",
        "    pass\n",
        "\n",
        "  def generateFirstPopulation(self):\n",
        "    pass\n",
        "\n",
        "  def roulette(self,population):\n",
        "    # print(\"roulette\")\n",
        "    of=[self.fitnessFunct(s) for s in population]\n",
        "    # print(\"of: \", of)\n",
        "    # print(\"sum: \", sum(of))\n",
        "    probability=of/sum(of)\n",
        "    accumulatedProb=np.cumsum(probability)\n",
        "    return accumulatedProb \n",
        "\n",
        "  def selection(self, population, accumulatedProb):\n",
        "    nr=np.random.uniform()\n",
        "    # print(\"nr: \", nr)\n",
        "    # print(\"probabilidad acumulada: \", accumulatedProb)\n",
        "    for i,p in enumerate(accumulatedProb):\n",
        "      if nr<p:\n",
        "        # print(\"population[i]: \", population[i])\n",
        "        return list(population[i])\n",
        "\n",
        "  def crossover(self,ind1, ind2):\n",
        "    pass\n",
        "\n",
        "  def mutate(self,ind):\n",
        "    pass\n",
        "\n",
        "  def geneticAlgorithm(self):\n",
        "    population=self.generateFirstPopulation()\n",
        "    accumulatedProb=self.roulette(population)\n",
        "    self.bestIndividual=[population[0]] # Lista de mejores individuos de cada población\n",
        "    for i in range(self.generations):\n",
        "      #Generar la nueva población\n",
        "      nextPopulation=[]\n",
        "      count=0\n",
        "      while True: # para crear la población cuando tengamos NP individuos\n",
        "        # Hacemos selección de dos individuos y cruce si es posible\n",
        "        ind1=self.selection(population, accumulatedProb)\n",
        "        ind2=self.selection(population, accumulatedProb)\n",
        "        # print(\"seleccion ind1: \", ind1)\n",
        "        # print(\"seleccion ind2: \", ind2)\n",
        "        crossProb=nr=np.random.uniform()\n",
        "        if crossProb<self.crossover_probability:\n",
        "          child1,child2=self.crossover(ind1,ind2)\n",
        "          # print(\"child1, child2: \", child1, child2)\n",
        "          if self.valid(child1):\n",
        "            nextPopulation.append(child1)\n",
        "          if self.valid(child2):\n",
        "            nextPopulation.append(child2)\n",
        "        else:\n",
        "          nextPopulation.append(ind1)\n",
        "          nextPopulation.append(ind2)\n",
        "        # Hacemos selección de un individuo y mutación si es posible\n",
        "        mutProb=nr=np.random.uniform()\n",
        "        ind=self.selection(population, accumulatedProb)\n",
        "        if mutProb<self.mutation_probability:\n",
        "          child=self.mutate(ind)\n",
        "          # print(\"child mutation: \", child)\n",
        "          if self.valid(child):\n",
        "            nextPopulation.append(child)\n",
        "        else:\n",
        "          nextPopulation.append(ind)\n",
        "        if len(nextPopulation)>=sizePopulation:\n",
        "          nextPopulation=nextPopulation[0:sizePopulation]\n",
        "          break;\n",
        "      \n",
        "      accumulatedProb=self.roulette(nextPopulation)\n",
        "      sorted_population=sorted(nextPopulation,key=self.fitnessFunct,reverse=True)\n",
        "      self.bestIndividual.append(sorted_population[0])\n",
        "      population=nextPopulation\n",
        "      # print(\"nextPopulation: \", nextPopulation)\n",
        "    sortedBest=sorted(self.bestIndividual,key=self.fitnessFunct,reverse=True)\n",
        "    return sortedBest[0],self.fitnessFunct(sortedBest[0])\n",
        "    "
      ],
      "metadata": {
        "id": "fsDIqTBKE4Uf"
      },
      "execution_count": null,
      "outputs": []
    },
    {
      "cell_type": "code",
      "source": [
        "import random \n",
        "import numpy as np\n",
        "\n",
        "class GA_Salesman_person(Genetic_Algorithm):\n",
        "  def __init__(self, sizeIndividual, sizePopulation, generations, mutation_probability, crossover_probability, ciudades, inicial, ciudades_dic):\n",
        "    super(GA_Salesman_person, self).__init__(sizeIndividual, sizePopulation, generations, mutation_probability, crossover_probability)\n",
        "    self.ciudades = ciudades\n",
        "    self.inicial = inicial\n",
        "    self.ciudades_dic = ciudades_dic\n",
        "\n",
        "  def valid(self,x):\n",
        "    return len(x) == len(set(x))\n",
        "\n",
        "  def generateFirstPopulation(self):\n",
        "    ciudades = self.ciudades.copy()\n",
        "    inicial = self.inicial\n",
        "    population=[]\n",
        "    count=0;\n",
        "    sizePopulation = 10\n",
        "    ciudades.remove(inicial)\n",
        "    while True:\n",
        "      random.shuffle(ciudades)\n",
        "      ciudades1 = ciudades.copy()\n",
        "      ciudades1.insert(0, inicial)\n",
        "      if (self.valid(ciudades1)):\n",
        "        population.append(ciudades1)\n",
        "        count=count+1\n",
        "      if count==sizePopulation:\n",
        "        # population.insert(0, inicial)\n",
        "        return population\n",
        "\n",
        "  def fitnessFunct(self,x):\n",
        "    suma = 0\n",
        "    individuo = x\n",
        "    inicial = self.inicial\n",
        "    for index, i in enumerate(individuo):\n",
        "      # print(index, i)\n",
        "\n",
        "      if index < len(individuo) -1:\n",
        "        siguiente = individuo[index+1]\n",
        "        suma = suma + self.ciudades_dic[i][siguiente]\n",
        "      else:\n",
        "        suma = suma + self.ciudades_dic[i][inicial]\n",
        "    return np.float64(1/suma)\n",
        "\n",
        "\n",
        "  def crossover(self,ind1, ind2):\n",
        "    # print(\"ind1: \", ind1)\n",
        "    # print(\"ind2: \", ind2)\n",
        "    cp=np.random.randint(1,len(ind1)-1)\n",
        "    indice1 = ind1[0:cp+1]\n",
        "    indice2 = ind2[cp+1:len(ind2)]\n",
        "    child1 = indice1.copy()\n",
        "    child2 = indice2.copy()\n",
        "    for i, value in enumerate(indice2):\n",
        "      # print(value)\n",
        "      # print(i)\n",
        "      if value not in indice1:\n",
        "        child1.append(value)\n",
        "      else:\n",
        "        child1.append(ind1[cp+1:][i])\n",
        "\n",
        "    child1_result = child1.copy()\n",
        "    # print(child1_result)\n",
        "    indice1 = ind2[0:cp+1]\n",
        "    indice2 = ind1[cp+1:len(ind1)]\n",
        "    child1 = indice1.copy()\n",
        "    child2 = indice2.copy()\n",
        "    for i, value in enumerate(indice2):\n",
        "      # print(value)\n",
        "      # print(i)\n",
        "      if value not in indice1:\n",
        "        child1.append(value)\n",
        "      else:\n",
        "        child1.append(ind2[cp+1:][i])\n",
        "    child2_result = child1.copy()\n",
        "    return child1_result, child2_result\n",
        "\n",
        "  def mutate(self,ind):\n",
        "    initial = self.inicial\n",
        "    cp = cp2 = 0\n",
        "    while cp == cp2:\n",
        "      cp=np.random.randint(0,len(ind)-1)\n",
        "      cp2=np.random.randint(0,len(ind)-1)\n",
        "\n",
        "    child=ind.copy()\n",
        "    child.remove(initial)\n",
        "    child[cp], child[cp2] = child[cp2], child[cp]\n",
        "    child.insert(0, initial)\n",
        "    return child\n"
      ],
      "metadata": {
        "id": "eBv_U-qJEvsr"
      },
      "execution_count": null,
      "outputs": []
    },
    {
      "cell_type": "code",
      "source": [
        "inicial = \"A\"\n",
        "ciudades = [\"A\", \"B\", \"C\", \"D\", \"E\", \"F\", \"G\", \"H\", \"I\", \"J\"]\n",
        "sizeIndividual=N\n",
        "sizePopulation=NP\n",
        "SM=GA_Salesman_person(sizeIndividual, sizePopulation, generations, mutation_probability, crossover_probability, ciudades, inicial, ciudades_dic)"
      ],
      "metadata": {
        "id": "9mQR89RuuTiT"
      },
      "execution_count": null,
      "outputs": []
    },
    {
      "cell_type": "code",
      "source": [
        "solution, f= SM.geneticAlgorithm()\n",
        "print(solution, f)"
      ],
      "metadata": {
        "colab": {
          "base_uri": "https://localhost:8080/"
        },
        "id": "pbPFUyhwulUz",
        "outputId": "571767af-310e-4611-ca4a-2aebb69a0b64"
      },
      "execution_count": null,
      "outputs": [
        {
          "output_type": "stream",
          "name": "stdout",
          "text": [
            "['A', 'G', 'B', 'H', 'F', 'D', 'C', 'J', 'I', 'E'] 0.047619047619047616\n"
          ]
        }
      ]
    },
    {
      "cell_type": "code",
      "source": [
        "# 0.06666666666666667, 0.05555555555555555, 0.058823529411764705, 0.05, 0.07142857142857142, 0.0625, 0.07692307692307693, 0.05263157894736842, 0.08333333333333333"
      ],
      "metadata": {
        "id": "E23GiDzDVUI4"
      },
      "execution_count": null,
      "outputs": []
    },
    {
      "cell_type": "code",
      "source": [
        "solution, f= SM.geneticAlgorithm()\n",
        "# print(solution, f)\n",
        "iteration=np.arange(0,len(SM.bestIndividual))\n",
        "fitnessValue=[1/SM.fitnessFunct(x) for x in SM.bestIndividual]\n",
        "df = pd.DataFrame(list(zip(iteration,fitnessValue)),\n",
        "               columns =['iteration', 'fitness'])\n",
        "fig = px.line(df, x=\"iteration\", y=\"fitness\")\n",
        "fig.show()"
      ],
      "metadata": {
        "colab": {
          "base_uri": "https://localhost:8080/",
          "height": 542
        },
        "id": "iggof6jmITlR",
        "outputId": "06b5cf7a-1c03-451a-d6be-66e5d64f94a9"
      },
      "execution_count": null,
      "outputs": [
        {
          "output_type": "display_data",
          "data": {
            "text/html": [
              "<html>\n",
              "<head><meta charset=\"utf-8\" /></head>\n",
              "<body>\n",
              "    <div>            <script src=\"https://cdnjs.cloudflare.com/ajax/libs/mathjax/2.7.5/MathJax.js?config=TeX-AMS-MML_SVG\"></script><script type=\"text/javascript\">if (window.MathJax) {MathJax.Hub.Config({SVG: {font: \"STIX-Web\"}});}</script>                <script type=\"text/javascript\">window.PlotlyConfig = {MathJaxConfig: 'local'};</script>\n",
              "        <script src=\"https://cdn.plot.ly/plotly-2.8.3.min.js\"></script>                <div id=\"d83b45a8-a2ac-41d0-be51-e2d0f6d52dc4\" class=\"plotly-graph-div\" style=\"height:525px; width:100%;\"></div>            <script type=\"text/javascript\">                                    window.PLOTLYENV=window.PLOTLYENV || {};                                    if (document.getElementById(\"d83b45a8-a2ac-41d0-be51-e2d0f6d52dc4\")) {                    Plotly.newPlot(                        \"d83b45a8-a2ac-41d0-be51-e2d0f6d52dc4\",                        [{\"hovertemplate\":\"iteration=%{x}<br>fitness=%{y}<extra></extra>\",\"legendgroup\":\"\",\"line\":{\"color\":\"#636efa\",\"dash\":\"solid\"},\"marker\":{\"symbol\":\"circle\"},\"mode\":\"lines\",\"name\":\"\",\"orientation\":\"v\",\"showlegend\":false,\"x\":[0,1,2,3,4,5,6,7,8,9,10,11,12,13,14,15,16,17,18,19,20,21,22,23,24,25,26,27,28,29,30,31,32,33,34,35,36,37,38,39,40,41,42,43,44,45,46,47,48,49,50,51,52,53,54,55,56,57,58,59,60,61,62,63,64,65,66,67,68,69,70,71,72,73,74,75,76,77,78,79,80,81,82,83,84,85,86,87,88,89,90,91,92,93,94,95,96,97,98,99,100,101,102,103,104,105,106,107,108,109,110,111,112,113,114,115,116,117,118,119,120,121,122,123,124,125,126,127,128,129,130,131,132,133,134,135,136,137,138,139,140,141,142,143,144,145,146,147,148,149,150,151,152,153,154,155,156,157,158,159,160,161,162,163,164,165,166,167,168,169,170,171,172,173,174,175,176,177,178,179,180,181,182,183,184,185,186,187,188,189,190,191,192,193,194,195,196,197,198,199,200,201,202,203,204,205,206,207,208,209,210,211,212,213,214,215,216,217,218,219,220,221,222,223,224,225,226,227,228,229,230,231,232,233,234,235,236,237,238,239,240,241,242,243,244,245,246,247,248,249,250,251,252,253,254,255,256,257,258,259,260,261,262,263,264,265,266,267,268,269,270,271,272,273,274,275,276,277,278,279,280,281,282,283,284,285,286,287,288,289,290,291,292,293,294,295,296,297,298,299,300],\"xaxis\":\"x\",\"y\":[48.0,38.0,38.0,38.0,38.0,38.0,38.0,38.0,38.0,38.0,38.0,38.0,38.0,38.0,37.0,37.0,40.0,40.0,40.0,40.0,40.0,40.0,38.0,40.0,40.0,40.0,40.0,40.0,38.0,40.0,40.0,40.0,40.0,40.0,40.0,40.0,40.0,34.0,34.0,40.0,34.0,34.0,34.0,34.0,34.0,34.0,34.0,34.0,34.0,34.0,34.0,34.0,34.0,34.0,34.0,34.0,34.0,34.0,34.0,34.0,34.0,34.0,34.0,34.0,34.0,34.0,34.0,34.0,34.0,34.0,34.0,34.0,34.0,34.0,34.0,34.0,34.0,34.0,34.0,34.0,34.0,34.0,34.0,34.0,34.0,34.0,34.0,34.0,34.0,34.0,32.0,34.0,34.0,34.0,34.0,34.0,34.0,34.0,34.0,34.0,33.0,34.0,34.0,34.0,34.0,34.0,34.0,35.0,32.0,32.0,32.0,32.0,32.0,32.0,32.0,32.0,32.0,32.0,32.0,31.0,31.0,31.0,32.0,32.0,32.0,31.0,32.0,32.0,32.0,31.0,32.0,32.0,32.0,31.0,32.0,32.0,31.0,31.0,31.0,31.0,31.0,32.0,32.0,32.0,32.0,32.0,32.0,32.0,32.0,32.0,32.0,32.0,32.0,32.0,32.0,32.0,32.0,32.0,32.0,32.0,32.0,32.0,32.0,32.0,32.0,32.0,32.0,32.0,32.0,32.0,32.0,31.0,31.0,31.0,31.0,31.0,31.0,31.0,31.0,31.0,31.0,31.0,31.0,31.0,31.0,31.0,31.0,31.0,31.0,31.0,31.0,31.0,31.0,31.0,31.0,31.0,31.0,28.0,28.0,28.0,28.0,28.0,28.0,28.0,28.0,28.0,28.0,28.0,27.0,28.0,28.0,28.0,28.0,28.0,28.0,28.0,28.0,28.0,29.0,29.0,29.0,29.0,29.0,29.0,29.0,29.0,28.0,29.0,29.0,29.0,29.0,29.0,29.0,29.0,29.0,29.0,29.0,29.0,29.0,26.0,26.0,26.0,29.0,29.0,29.0,29.0,29.0,29.0,29.0,29.0,28.0,29.0,29.0,29.0,29.0,29.0,29.0,29.0,29.0,29.0,29.0,29.0,29.0,29.0,29.0,29.0,29.0,29.0,29.0,29.0,28.0,28.0,28.0,28.0,28.0,28.0,28.0,28.0,28.0,28.0,28.0,28.0,28.0,28.0,28.0,28.0,28.0,28.0,28.0,28.0,28.0,28.0,28.0,28.0,28.0,28.0,28.0,28.0,28.0,28.0,28.0],\"yaxis\":\"y\",\"type\":\"scatter\"}],                        {\"template\":{\"data\":{\"bar\":[{\"error_x\":{\"color\":\"#2a3f5f\"},\"error_y\":{\"color\":\"#2a3f5f\"},\"marker\":{\"line\":{\"color\":\"#E5ECF6\",\"width\":0.5},\"pattern\":{\"fillmode\":\"overlay\",\"size\":10,\"solidity\":0.2}},\"type\":\"bar\"}],\"barpolar\":[{\"marker\":{\"line\":{\"color\":\"#E5ECF6\",\"width\":0.5},\"pattern\":{\"fillmode\":\"overlay\",\"size\":10,\"solidity\":0.2}},\"type\":\"barpolar\"}],\"carpet\":[{\"aaxis\":{\"endlinecolor\":\"#2a3f5f\",\"gridcolor\":\"white\",\"linecolor\":\"white\",\"minorgridcolor\":\"white\",\"startlinecolor\":\"#2a3f5f\"},\"baxis\":{\"endlinecolor\":\"#2a3f5f\",\"gridcolor\":\"white\",\"linecolor\":\"white\",\"minorgridcolor\":\"white\",\"startlinecolor\":\"#2a3f5f\"},\"type\":\"carpet\"}],\"choropleth\":[{\"colorbar\":{\"outlinewidth\":0,\"ticks\":\"\"},\"type\":\"choropleth\"}],\"contour\":[{\"colorbar\":{\"outlinewidth\":0,\"ticks\":\"\"},\"colorscale\":[[0.0,\"#0d0887\"],[0.1111111111111111,\"#46039f\"],[0.2222222222222222,\"#7201a8\"],[0.3333333333333333,\"#9c179e\"],[0.4444444444444444,\"#bd3786\"],[0.5555555555555556,\"#d8576b\"],[0.6666666666666666,\"#ed7953\"],[0.7777777777777778,\"#fb9f3a\"],[0.8888888888888888,\"#fdca26\"],[1.0,\"#f0f921\"]],\"type\":\"contour\"}],\"contourcarpet\":[{\"colorbar\":{\"outlinewidth\":0,\"ticks\":\"\"},\"type\":\"contourcarpet\"}],\"heatmap\":[{\"colorbar\":{\"outlinewidth\":0,\"ticks\":\"\"},\"colorscale\":[[0.0,\"#0d0887\"],[0.1111111111111111,\"#46039f\"],[0.2222222222222222,\"#7201a8\"],[0.3333333333333333,\"#9c179e\"],[0.4444444444444444,\"#bd3786\"],[0.5555555555555556,\"#d8576b\"],[0.6666666666666666,\"#ed7953\"],[0.7777777777777778,\"#fb9f3a\"],[0.8888888888888888,\"#fdca26\"],[1.0,\"#f0f921\"]],\"type\":\"heatmap\"}],\"heatmapgl\":[{\"colorbar\":{\"outlinewidth\":0,\"ticks\":\"\"},\"colorscale\":[[0.0,\"#0d0887\"],[0.1111111111111111,\"#46039f\"],[0.2222222222222222,\"#7201a8\"],[0.3333333333333333,\"#9c179e\"],[0.4444444444444444,\"#bd3786\"],[0.5555555555555556,\"#d8576b\"],[0.6666666666666666,\"#ed7953\"],[0.7777777777777778,\"#fb9f3a\"],[0.8888888888888888,\"#fdca26\"],[1.0,\"#f0f921\"]],\"type\":\"heatmapgl\"}],\"histogram\":[{\"marker\":{\"pattern\":{\"fillmode\":\"overlay\",\"size\":10,\"solidity\":0.2}},\"type\":\"histogram\"}],\"histogram2d\":[{\"colorbar\":{\"outlinewidth\":0,\"ticks\":\"\"},\"colorscale\":[[0.0,\"#0d0887\"],[0.1111111111111111,\"#46039f\"],[0.2222222222222222,\"#7201a8\"],[0.3333333333333333,\"#9c179e\"],[0.4444444444444444,\"#bd3786\"],[0.5555555555555556,\"#d8576b\"],[0.6666666666666666,\"#ed7953\"],[0.7777777777777778,\"#fb9f3a\"],[0.8888888888888888,\"#fdca26\"],[1.0,\"#f0f921\"]],\"type\":\"histogram2d\"}],\"histogram2dcontour\":[{\"colorbar\":{\"outlinewidth\":0,\"ticks\":\"\"},\"colorscale\":[[0.0,\"#0d0887\"],[0.1111111111111111,\"#46039f\"],[0.2222222222222222,\"#7201a8\"],[0.3333333333333333,\"#9c179e\"],[0.4444444444444444,\"#bd3786\"],[0.5555555555555556,\"#d8576b\"],[0.6666666666666666,\"#ed7953\"],[0.7777777777777778,\"#fb9f3a\"],[0.8888888888888888,\"#fdca26\"],[1.0,\"#f0f921\"]],\"type\":\"histogram2dcontour\"}],\"mesh3d\":[{\"colorbar\":{\"outlinewidth\":0,\"ticks\":\"\"},\"type\":\"mesh3d\"}],\"parcoords\":[{\"line\":{\"colorbar\":{\"outlinewidth\":0,\"ticks\":\"\"}},\"type\":\"parcoords\"}],\"pie\":[{\"automargin\":true,\"type\":\"pie\"}],\"scatter\":[{\"marker\":{\"colorbar\":{\"outlinewidth\":0,\"ticks\":\"\"}},\"type\":\"scatter\"}],\"scatter3d\":[{\"line\":{\"colorbar\":{\"outlinewidth\":0,\"ticks\":\"\"}},\"marker\":{\"colorbar\":{\"outlinewidth\":0,\"ticks\":\"\"}},\"type\":\"scatter3d\"}],\"scattercarpet\":[{\"marker\":{\"colorbar\":{\"outlinewidth\":0,\"ticks\":\"\"}},\"type\":\"scattercarpet\"}],\"scattergeo\":[{\"marker\":{\"colorbar\":{\"outlinewidth\":0,\"ticks\":\"\"}},\"type\":\"scattergeo\"}],\"scattergl\":[{\"marker\":{\"colorbar\":{\"outlinewidth\":0,\"ticks\":\"\"}},\"type\":\"scattergl\"}],\"scattermapbox\":[{\"marker\":{\"colorbar\":{\"outlinewidth\":0,\"ticks\":\"\"}},\"type\":\"scattermapbox\"}],\"scatterpolar\":[{\"marker\":{\"colorbar\":{\"outlinewidth\":0,\"ticks\":\"\"}},\"type\":\"scatterpolar\"}],\"scatterpolargl\":[{\"marker\":{\"colorbar\":{\"outlinewidth\":0,\"ticks\":\"\"}},\"type\":\"scatterpolargl\"}],\"scatterternary\":[{\"marker\":{\"colorbar\":{\"outlinewidth\":0,\"ticks\":\"\"}},\"type\":\"scatterternary\"}],\"surface\":[{\"colorbar\":{\"outlinewidth\":0,\"ticks\":\"\"},\"colorscale\":[[0.0,\"#0d0887\"],[0.1111111111111111,\"#46039f\"],[0.2222222222222222,\"#7201a8\"],[0.3333333333333333,\"#9c179e\"],[0.4444444444444444,\"#bd3786\"],[0.5555555555555556,\"#d8576b\"],[0.6666666666666666,\"#ed7953\"],[0.7777777777777778,\"#fb9f3a\"],[0.8888888888888888,\"#fdca26\"],[1.0,\"#f0f921\"]],\"type\":\"surface\"}],\"table\":[{\"cells\":{\"fill\":{\"color\":\"#EBF0F8\"},\"line\":{\"color\":\"white\"}},\"header\":{\"fill\":{\"color\":\"#C8D4E3\"},\"line\":{\"color\":\"white\"}},\"type\":\"table\"}]},\"layout\":{\"annotationdefaults\":{\"arrowcolor\":\"#2a3f5f\",\"arrowhead\":0,\"arrowwidth\":1},\"autotypenumbers\":\"strict\",\"coloraxis\":{\"colorbar\":{\"outlinewidth\":0,\"ticks\":\"\"}},\"colorscale\":{\"diverging\":[[0,\"#8e0152\"],[0.1,\"#c51b7d\"],[0.2,\"#de77ae\"],[0.3,\"#f1b6da\"],[0.4,\"#fde0ef\"],[0.5,\"#f7f7f7\"],[0.6,\"#e6f5d0\"],[0.7,\"#b8e186\"],[0.8,\"#7fbc41\"],[0.9,\"#4d9221\"],[1,\"#276419\"]],\"sequential\":[[0.0,\"#0d0887\"],[0.1111111111111111,\"#46039f\"],[0.2222222222222222,\"#7201a8\"],[0.3333333333333333,\"#9c179e\"],[0.4444444444444444,\"#bd3786\"],[0.5555555555555556,\"#d8576b\"],[0.6666666666666666,\"#ed7953\"],[0.7777777777777778,\"#fb9f3a\"],[0.8888888888888888,\"#fdca26\"],[1.0,\"#f0f921\"]],\"sequentialminus\":[[0.0,\"#0d0887\"],[0.1111111111111111,\"#46039f\"],[0.2222222222222222,\"#7201a8\"],[0.3333333333333333,\"#9c179e\"],[0.4444444444444444,\"#bd3786\"],[0.5555555555555556,\"#d8576b\"],[0.6666666666666666,\"#ed7953\"],[0.7777777777777778,\"#fb9f3a\"],[0.8888888888888888,\"#fdca26\"],[1.0,\"#f0f921\"]]},\"colorway\":[\"#636efa\",\"#EF553B\",\"#00cc96\",\"#ab63fa\",\"#FFA15A\",\"#19d3f3\",\"#FF6692\",\"#B6E880\",\"#FF97FF\",\"#FECB52\"],\"font\":{\"color\":\"#2a3f5f\"},\"geo\":{\"bgcolor\":\"white\",\"lakecolor\":\"white\",\"landcolor\":\"#E5ECF6\",\"showlakes\":true,\"showland\":true,\"subunitcolor\":\"white\"},\"hoverlabel\":{\"align\":\"left\"},\"hovermode\":\"closest\",\"mapbox\":{\"style\":\"light\"},\"paper_bgcolor\":\"white\",\"plot_bgcolor\":\"#E5ECF6\",\"polar\":{\"angularaxis\":{\"gridcolor\":\"white\",\"linecolor\":\"white\",\"ticks\":\"\"},\"bgcolor\":\"#E5ECF6\",\"radialaxis\":{\"gridcolor\":\"white\",\"linecolor\":\"white\",\"ticks\":\"\"}},\"scene\":{\"xaxis\":{\"backgroundcolor\":\"#E5ECF6\",\"gridcolor\":\"white\",\"gridwidth\":2,\"linecolor\":\"white\",\"showbackground\":true,\"ticks\":\"\",\"zerolinecolor\":\"white\"},\"yaxis\":{\"backgroundcolor\":\"#E5ECF6\",\"gridcolor\":\"white\",\"gridwidth\":2,\"linecolor\":\"white\",\"showbackground\":true,\"ticks\":\"\",\"zerolinecolor\":\"white\"},\"zaxis\":{\"backgroundcolor\":\"#E5ECF6\",\"gridcolor\":\"white\",\"gridwidth\":2,\"linecolor\":\"white\",\"showbackground\":true,\"ticks\":\"\",\"zerolinecolor\":\"white\"}},\"shapedefaults\":{\"line\":{\"color\":\"#2a3f5f\"}},\"ternary\":{\"aaxis\":{\"gridcolor\":\"white\",\"linecolor\":\"white\",\"ticks\":\"\"},\"baxis\":{\"gridcolor\":\"white\",\"linecolor\":\"white\",\"ticks\":\"\"},\"bgcolor\":\"#E5ECF6\",\"caxis\":{\"gridcolor\":\"white\",\"linecolor\":\"white\",\"ticks\":\"\"}},\"title\":{\"x\":0.05},\"xaxis\":{\"automargin\":true,\"gridcolor\":\"white\",\"linecolor\":\"white\",\"ticks\":\"\",\"title\":{\"standoff\":15},\"zerolinecolor\":\"white\",\"zerolinewidth\":2},\"yaxis\":{\"automargin\":true,\"gridcolor\":\"white\",\"linecolor\":\"white\",\"ticks\":\"\",\"title\":{\"standoff\":15},\"zerolinecolor\":\"white\",\"zerolinewidth\":2}}},\"xaxis\":{\"anchor\":\"y\",\"domain\":[0.0,1.0],\"title\":{\"text\":\"iteration\"}},\"yaxis\":{\"anchor\":\"x\",\"domain\":[0.0,1.0],\"title\":{\"text\":\"fitness\"}},\"legend\":{\"tracegroupgap\":0},\"margin\":{\"t\":60}},                        {\"responsive\": true}                    ).then(function(){\n",
              "                            \n",
              "var gd = document.getElementById('d83b45a8-a2ac-41d0-be51-e2d0f6d52dc4');\n",
              "var x = new MutationObserver(function (mutations, observer) {{\n",
              "        var display = window.getComputedStyle(gd).display;\n",
              "        if (!display || display === 'none') {{\n",
              "            console.log([gd, 'removed!']);\n",
              "            Plotly.purge(gd);\n",
              "            observer.disconnect();\n",
              "        }}\n",
              "}});\n",
              "\n",
              "// Listen for the removal of the full notebook cells\n",
              "var notebookContainer = gd.closest('#notebook-container');\n",
              "if (notebookContainer) {{\n",
              "    x.observe(notebookContainer, {childList: true});\n",
              "}}\n",
              "\n",
              "// Listen for the clearing of the current output cell\n",
              "var outputEl = gd.closest('.output');\n",
              "if (outputEl) {{\n",
              "    x.observe(outputEl, {childList: true});\n",
              "}}\n",
              "\n",
              "                        })                };                            </script>        </div>\n",
              "</body>\n",
              "</html>"
            ]
          },
          "metadata": {}
        }
      ]
    },
    {
      "cell_type": "code",
      "source": [
        "print(solution, f)"
      ],
      "metadata": {
        "colab": {
          "base_uri": "https://localhost:8080/"
        },
        "id": "PL1zlwBhQQAN",
        "outputId": "19d0a133-fc89-4bd9-c783-d13bf9050649"
      },
      "execution_count": null,
      "outputs": [
        {
          "output_type": "stream",
          "name": "stdout",
          "text": [
            "['A', 'G', 'C', 'J', 'B', 'H', 'F', 'D', 'I', 'E'] 0.038461538461538464\n"
          ]
        }
      ]
    },
    {
      "cell_type": "code",
      "source": [
        "print(solution, f)"
      ],
      "metadata": {
        "colab": {
          "base_uri": "https://localhost:8080/"
        },
        "id": "TjbWz7fOQaC8",
        "outputId": "6ca6e5d3-6380-46fa-8347-2c5a72ebb89b"
      },
      "execution_count": null,
      "outputs": [
        {
          "output_type": "stream",
          "name": "stdout",
          "text": [
            "['A', 'G', 'C', 'J', 'B', 'H', 'F', 'D', 'I', 'E'] 0.038461538461538464\n"
          ]
        }
      ]
    },
    {
      "cell_type": "code",
      "source": [
        "fitnessValue=[SM.fitnessFunct(x) for x in SM.bestIndividual]\n",
        "df = pd.DataFrame(list(zip(iteration,fitnessValue)),\n",
        "               columns =['iteration', 'fitness'])\n",
        "fig = px.line(df, x=\"iteration\", y=\"fitness\")\n",
        "fig.show()"
      ],
      "metadata": {
        "colab": {
          "base_uri": "https://localhost:8080/",
          "height": 542
        },
        "id": "dS67UQrJPcj0",
        "outputId": "101f96ff-ba90-4625-8747-a49a80df223a"
      },
      "execution_count": null,
      "outputs": [
        {
          "output_type": "display_data",
          "data": {
            "text/html": [
              "<html>\n",
              "<head><meta charset=\"utf-8\" /></head>\n",
              "<body>\n",
              "    <div>            <script src=\"https://cdnjs.cloudflare.com/ajax/libs/mathjax/2.7.5/MathJax.js?config=TeX-AMS-MML_SVG\"></script><script type=\"text/javascript\">if (window.MathJax) {MathJax.Hub.Config({SVG: {font: \"STIX-Web\"}});}</script>                <script type=\"text/javascript\">window.PlotlyConfig = {MathJaxConfig: 'local'};</script>\n",
              "        <script src=\"https://cdn.plot.ly/plotly-2.8.3.min.js\"></script>                <div id=\"35844d31-bccf-4cf9-b02d-802421dd5979\" class=\"plotly-graph-div\" style=\"height:525px; width:100%;\"></div>            <script type=\"text/javascript\">                                    window.PLOTLYENV=window.PLOTLYENV || {};                                    if (document.getElementById(\"35844d31-bccf-4cf9-b02d-802421dd5979\")) {                    Plotly.newPlot(                        \"35844d31-bccf-4cf9-b02d-802421dd5979\",                        [{\"hovertemplate\":\"iteration=%{x}<br>fitness=%{y}<extra></extra>\",\"legendgroup\":\"\",\"line\":{\"color\":\"#636efa\",\"dash\":\"solid\"},\"marker\":{\"symbol\":\"circle\"},\"mode\":\"lines\",\"name\":\"\",\"orientation\":\"v\",\"showlegend\":false,\"x\":[0,1,2,3,4,5,6,7,8,9,10,11,12,13,14,15,16,17,18,19,20,21,22,23,24,25,26,27,28,29,30,31,32,33,34,35,36,37,38,39,40,41,42,43,44,45,46,47,48,49,50,51,52,53,54,55,56,57,58,59,60,61,62,63,64,65,66,67,68,69,70,71,72,73,74,75,76,77,78,79,80,81,82,83,84,85,86,87,88,89,90,91,92,93,94,95,96,97,98,99,100,101,102,103,104,105,106,107,108,109,110,111,112,113,114,115,116,117,118,119,120,121,122,123,124,125,126,127,128,129,130,131,132,133,134,135,136,137,138,139,140,141,142,143,144,145,146,147,148,149,150,151,152,153,154,155,156,157,158,159,160,161,162,163,164,165,166,167,168,169,170,171,172,173,174,175,176,177,178,179,180,181,182,183,184,185,186,187,188,189,190,191,192,193,194,195,196,197,198,199,200,201,202,203,204,205,206,207,208,209,210,211,212,213,214,215,216,217,218,219,220,221,222,223,224,225,226,227,228,229,230,231,232,233,234,235,236,237,238,239,240,241,242,243,244,245,246,247,248,249,250,251,252,253,254,255,256,257,258,259,260,261,262,263,264,265,266,267,268,269,270,271,272,273,274,275,276,277,278,279,280,281,282,283,284,285,286,287,288,289,290,291,292,293,294,295,296,297,298,299,300],\"xaxis\":\"x\",\"y\":[0.020833333333333332,0.02631578947368421,0.02631578947368421,0.02631578947368421,0.02631578947368421,0.02631578947368421,0.02631578947368421,0.02631578947368421,0.02631578947368421,0.02631578947368421,0.02631578947368421,0.02631578947368421,0.02631578947368421,0.02631578947368421,0.02702702702702703,0.02702702702702703,0.025,0.025,0.025,0.025,0.025,0.025,0.02631578947368421,0.025,0.025,0.025,0.025,0.025,0.02631578947368421,0.025,0.025,0.025,0.025,0.025,0.025,0.025,0.025,0.029411764705882353,0.029411764705882353,0.025,0.029411764705882353,0.029411764705882353,0.029411764705882353,0.029411764705882353,0.029411764705882353,0.029411764705882353,0.029411764705882353,0.029411764705882353,0.029411764705882353,0.029411764705882353,0.029411764705882353,0.029411764705882353,0.029411764705882353,0.029411764705882353,0.029411764705882353,0.029411764705882353,0.029411764705882353,0.029411764705882353,0.029411764705882353,0.029411764705882353,0.029411764705882353,0.029411764705882353,0.029411764705882353,0.029411764705882353,0.029411764705882353,0.029411764705882353,0.029411764705882353,0.029411764705882353,0.029411764705882353,0.029411764705882353,0.029411764705882353,0.029411764705882353,0.029411764705882353,0.029411764705882353,0.029411764705882353,0.029411764705882353,0.029411764705882353,0.029411764705882353,0.029411764705882353,0.029411764705882353,0.029411764705882353,0.029411764705882353,0.029411764705882353,0.029411764705882353,0.029411764705882353,0.029411764705882353,0.029411764705882353,0.029411764705882353,0.029411764705882353,0.029411764705882353,0.03125,0.029411764705882353,0.029411764705882353,0.029411764705882353,0.029411764705882353,0.029411764705882353,0.029411764705882353,0.029411764705882353,0.029411764705882353,0.029411764705882353,0.030303030303030304,0.029411764705882353,0.029411764705882353,0.029411764705882353,0.029411764705882353,0.029411764705882353,0.029411764705882353,0.02857142857142857,0.03125,0.03125,0.03125,0.03125,0.03125,0.03125,0.03125,0.03125,0.03125,0.03125,0.03125,0.03225806451612903,0.03225806451612903,0.03225806451612903,0.03125,0.03125,0.03125,0.03225806451612903,0.03125,0.03125,0.03125,0.03225806451612903,0.03125,0.03125,0.03125,0.03225806451612903,0.03125,0.03125,0.03225806451612903,0.03225806451612903,0.03225806451612903,0.03225806451612903,0.03225806451612903,0.03125,0.03125,0.03125,0.03125,0.03125,0.03125,0.03125,0.03125,0.03125,0.03125,0.03125,0.03125,0.03125,0.03125,0.03125,0.03125,0.03125,0.03125,0.03125,0.03125,0.03125,0.03125,0.03125,0.03125,0.03125,0.03125,0.03125,0.03125,0.03125,0.03125,0.03225806451612903,0.03225806451612903,0.03225806451612903,0.03225806451612903,0.03225806451612903,0.03225806451612903,0.03225806451612903,0.03225806451612903,0.03225806451612903,0.03225806451612903,0.03225806451612903,0.03225806451612903,0.03225806451612903,0.03225806451612903,0.03225806451612903,0.03225806451612903,0.03225806451612903,0.03225806451612903,0.03225806451612903,0.03225806451612903,0.03225806451612903,0.03225806451612903,0.03225806451612903,0.03225806451612903,0.03225806451612903,0.03225806451612903,0.03571428571428571,0.03571428571428571,0.03571428571428571,0.03571428571428571,0.03571428571428571,0.03571428571428571,0.03571428571428571,0.03571428571428571,0.03571428571428571,0.03571428571428571,0.03571428571428571,0.037037037037037035,0.03571428571428571,0.03571428571428571,0.03571428571428571,0.03571428571428571,0.03571428571428571,0.03571428571428571,0.03571428571428571,0.03571428571428571,0.03571428571428571,0.034482758620689655,0.034482758620689655,0.034482758620689655,0.034482758620689655,0.034482758620689655,0.034482758620689655,0.034482758620689655,0.034482758620689655,0.03571428571428571,0.034482758620689655,0.034482758620689655,0.034482758620689655,0.034482758620689655,0.034482758620689655,0.034482758620689655,0.034482758620689655,0.034482758620689655,0.034482758620689655,0.034482758620689655,0.034482758620689655,0.034482758620689655,0.038461538461538464,0.038461538461538464,0.038461538461538464,0.034482758620689655,0.034482758620689655,0.034482758620689655,0.034482758620689655,0.034482758620689655,0.034482758620689655,0.034482758620689655,0.034482758620689655,0.03571428571428571,0.034482758620689655,0.034482758620689655,0.034482758620689655,0.034482758620689655,0.034482758620689655,0.034482758620689655,0.034482758620689655,0.034482758620689655,0.034482758620689655,0.034482758620689655,0.034482758620689655,0.034482758620689655,0.034482758620689655,0.034482758620689655,0.034482758620689655,0.034482758620689655,0.034482758620689655,0.034482758620689655,0.034482758620689655,0.03571428571428571,0.03571428571428571,0.03571428571428571,0.03571428571428571,0.03571428571428571,0.03571428571428571,0.03571428571428571,0.03571428571428571,0.03571428571428571,0.03571428571428571,0.03571428571428571,0.03571428571428571,0.03571428571428571,0.03571428571428571,0.03571428571428571,0.03571428571428571,0.03571428571428571,0.03571428571428571,0.03571428571428571,0.03571428571428571,0.03571428571428571,0.03571428571428571,0.03571428571428571,0.03571428571428571,0.03571428571428571,0.03571428571428571,0.03571428571428571,0.03571428571428571,0.03571428571428571,0.03571428571428571,0.03571428571428571],\"yaxis\":\"y\",\"type\":\"scatter\"}],                        {\"template\":{\"data\":{\"bar\":[{\"error_x\":{\"color\":\"#2a3f5f\"},\"error_y\":{\"color\":\"#2a3f5f\"},\"marker\":{\"line\":{\"color\":\"#E5ECF6\",\"width\":0.5},\"pattern\":{\"fillmode\":\"overlay\",\"size\":10,\"solidity\":0.2}},\"type\":\"bar\"}],\"barpolar\":[{\"marker\":{\"line\":{\"color\":\"#E5ECF6\",\"width\":0.5},\"pattern\":{\"fillmode\":\"overlay\",\"size\":10,\"solidity\":0.2}},\"type\":\"barpolar\"}],\"carpet\":[{\"aaxis\":{\"endlinecolor\":\"#2a3f5f\",\"gridcolor\":\"white\",\"linecolor\":\"white\",\"minorgridcolor\":\"white\",\"startlinecolor\":\"#2a3f5f\"},\"baxis\":{\"endlinecolor\":\"#2a3f5f\",\"gridcolor\":\"white\",\"linecolor\":\"white\",\"minorgridcolor\":\"white\",\"startlinecolor\":\"#2a3f5f\"},\"type\":\"carpet\"}],\"choropleth\":[{\"colorbar\":{\"outlinewidth\":0,\"ticks\":\"\"},\"type\":\"choropleth\"}],\"contour\":[{\"colorbar\":{\"outlinewidth\":0,\"ticks\":\"\"},\"colorscale\":[[0.0,\"#0d0887\"],[0.1111111111111111,\"#46039f\"],[0.2222222222222222,\"#7201a8\"],[0.3333333333333333,\"#9c179e\"],[0.4444444444444444,\"#bd3786\"],[0.5555555555555556,\"#d8576b\"],[0.6666666666666666,\"#ed7953\"],[0.7777777777777778,\"#fb9f3a\"],[0.8888888888888888,\"#fdca26\"],[1.0,\"#f0f921\"]],\"type\":\"contour\"}],\"contourcarpet\":[{\"colorbar\":{\"outlinewidth\":0,\"ticks\":\"\"},\"type\":\"contourcarpet\"}],\"heatmap\":[{\"colorbar\":{\"outlinewidth\":0,\"ticks\":\"\"},\"colorscale\":[[0.0,\"#0d0887\"],[0.1111111111111111,\"#46039f\"],[0.2222222222222222,\"#7201a8\"],[0.3333333333333333,\"#9c179e\"],[0.4444444444444444,\"#bd3786\"],[0.5555555555555556,\"#d8576b\"],[0.6666666666666666,\"#ed7953\"],[0.7777777777777778,\"#fb9f3a\"],[0.8888888888888888,\"#fdca26\"],[1.0,\"#f0f921\"]],\"type\":\"heatmap\"}],\"heatmapgl\":[{\"colorbar\":{\"outlinewidth\":0,\"ticks\":\"\"},\"colorscale\":[[0.0,\"#0d0887\"],[0.1111111111111111,\"#46039f\"],[0.2222222222222222,\"#7201a8\"],[0.3333333333333333,\"#9c179e\"],[0.4444444444444444,\"#bd3786\"],[0.5555555555555556,\"#d8576b\"],[0.6666666666666666,\"#ed7953\"],[0.7777777777777778,\"#fb9f3a\"],[0.8888888888888888,\"#fdca26\"],[1.0,\"#f0f921\"]],\"type\":\"heatmapgl\"}],\"histogram\":[{\"marker\":{\"pattern\":{\"fillmode\":\"overlay\",\"size\":10,\"solidity\":0.2}},\"type\":\"histogram\"}],\"histogram2d\":[{\"colorbar\":{\"outlinewidth\":0,\"ticks\":\"\"},\"colorscale\":[[0.0,\"#0d0887\"],[0.1111111111111111,\"#46039f\"],[0.2222222222222222,\"#7201a8\"],[0.3333333333333333,\"#9c179e\"],[0.4444444444444444,\"#bd3786\"],[0.5555555555555556,\"#d8576b\"],[0.6666666666666666,\"#ed7953\"],[0.7777777777777778,\"#fb9f3a\"],[0.8888888888888888,\"#fdca26\"],[1.0,\"#f0f921\"]],\"type\":\"histogram2d\"}],\"histogram2dcontour\":[{\"colorbar\":{\"outlinewidth\":0,\"ticks\":\"\"},\"colorscale\":[[0.0,\"#0d0887\"],[0.1111111111111111,\"#46039f\"],[0.2222222222222222,\"#7201a8\"],[0.3333333333333333,\"#9c179e\"],[0.4444444444444444,\"#bd3786\"],[0.5555555555555556,\"#d8576b\"],[0.6666666666666666,\"#ed7953\"],[0.7777777777777778,\"#fb9f3a\"],[0.8888888888888888,\"#fdca26\"],[1.0,\"#f0f921\"]],\"type\":\"histogram2dcontour\"}],\"mesh3d\":[{\"colorbar\":{\"outlinewidth\":0,\"ticks\":\"\"},\"type\":\"mesh3d\"}],\"parcoords\":[{\"line\":{\"colorbar\":{\"outlinewidth\":0,\"ticks\":\"\"}},\"type\":\"parcoords\"}],\"pie\":[{\"automargin\":true,\"type\":\"pie\"}],\"scatter\":[{\"marker\":{\"colorbar\":{\"outlinewidth\":0,\"ticks\":\"\"}},\"type\":\"scatter\"}],\"scatter3d\":[{\"line\":{\"colorbar\":{\"outlinewidth\":0,\"ticks\":\"\"}},\"marker\":{\"colorbar\":{\"outlinewidth\":0,\"ticks\":\"\"}},\"type\":\"scatter3d\"}],\"scattercarpet\":[{\"marker\":{\"colorbar\":{\"outlinewidth\":0,\"ticks\":\"\"}},\"type\":\"scattercarpet\"}],\"scattergeo\":[{\"marker\":{\"colorbar\":{\"outlinewidth\":0,\"ticks\":\"\"}},\"type\":\"scattergeo\"}],\"scattergl\":[{\"marker\":{\"colorbar\":{\"outlinewidth\":0,\"ticks\":\"\"}},\"type\":\"scattergl\"}],\"scattermapbox\":[{\"marker\":{\"colorbar\":{\"outlinewidth\":0,\"ticks\":\"\"}},\"type\":\"scattermapbox\"}],\"scatterpolar\":[{\"marker\":{\"colorbar\":{\"outlinewidth\":0,\"ticks\":\"\"}},\"type\":\"scatterpolar\"}],\"scatterpolargl\":[{\"marker\":{\"colorbar\":{\"outlinewidth\":0,\"ticks\":\"\"}},\"type\":\"scatterpolargl\"}],\"scatterternary\":[{\"marker\":{\"colorbar\":{\"outlinewidth\":0,\"ticks\":\"\"}},\"type\":\"scatterternary\"}],\"surface\":[{\"colorbar\":{\"outlinewidth\":0,\"ticks\":\"\"},\"colorscale\":[[0.0,\"#0d0887\"],[0.1111111111111111,\"#46039f\"],[0.2222222222222222,\"#7201a8\"],[0.3333333333333333,\"#9c179e\"],[0.4444444444444444,\"#bd3786\"],[0.5555555555555556,\"#d8576b\"],[0.6666666666666666,\"#ed7953\"],[0.7777777777777778,\"#fb9f3a\"],[0.8888888888888888,\"#fdca26\"],[1.0,\"#f0f921\"]],\"type\":\"surface\"}],\"table\":[{\"cells\":{\"fill\":{\"color\":\"#EBF0F8\"},\"line\":{\"color\":\"white\"}},\"header\":{\"fill\":{\"color\":\"#C8D4E3\"},\"line\":{\"color\":\"white\"}},\"type\":\"table\"}]},\"layout\":{\"annotationdefaults\":{\"arrowcolor\":\"#2a3f5f\",\"arrowhead\":0,\"arrowwidth\":1},\"autotypenumbers\":\"strict\",\"coloraxis\":{\"colorbar\":{\"outlinewidth\":0,\"ticks\":\"\"}},\"colorscale\":{\"diverging\":[[0,\"#8e0152\"],[0.1,\"#c51b7d\"],[0.2,\"#de77ae\"],[0.3,\"#f1b6da\"],[0.4,\"#fde0ef\"],[0.5,\"#f7f7f7\"],[0.6,\"#e6f5d0\"],[0.7,\"#b8e186\"],[0.8,\"#7fbc41\"],[0.9,\"#4d9221\"],[1,\"#276419\"]],\"sequential\":[[0.0,\"#0d0887\"],[0.1111111111111111,\"#46039f\"],[0.2222222222222222,\"#7201a8\"],[0.3333333333333333,\"#9c179e\"],[0.4444444444444444,\"#bd3786\"],[0.5555555555555556,\"#d8576b\"],[0.6666666666666666,\"#ed7953\"],[0.7777777777777778,\"#fb9f3a\"],[0.8888888888888888,\"#fdca26\"],[1.0,\"#f0f921\"]],\"sequentialminus\":[[0.0,\"#0d0887\"],[0.1111111111111111,\"#46039f\"],[0.2222222222222222,\"#7201a8\"],[0.3333333333333333,\"#9c179e\"],[0.4444444444444444,\"#bd3786\"],[0.5555555555555556,\"#d8576b\"],[0.6666666666666666,\"#ed7953\"],[0.7777777777777778,\"#fb9f3a\"],[0.8888888888888888,\"#fdca26\"],[1.0,\"#f0f921\"]]},\"colorway\":[\"#636efa\",\"#EF553B\",\"#00cc96\",\"#ab63fa\",\"#FFA15A\",\"#19d3f3\",\"#FF6692\",\"#B6E880\",\"#FF97FF\",\"#FECB52\"],\"font\":{\"color\":\"#2a3f5f\"},\"geo\":{\"bgcolor\":\"white\",\"lakecolor\":\"white\",\"landcolor\":\"#E5ECF6\",\"showlakes\":true,\"showland\":true,\"subunitcolor\":\"white\"},\"hoverlabel\":{\"align\":\"left\"},\"hovermode\":\"closest\",\"mapbox\":{\"style\":\"light\"},\"paper_bgcolor\":\"white\",\"plot_bgcolor\":\"#E5ECF6\",\"polar\":{\"angularaxis\":{\"gridcolor\":\"white\",\"linecolor\":\"white\",\"ticks\":\"\"},\"bgcolor\":\"#E5ECF6\",\"radialaxis\":{\"gridcolor\":\"white\",\"linecolor\":\"white\",\"ticks\":\"\"}},\"scene\":{\"xaxis\":{\"backgroundcolor\":\"#E5ECF6\",\"gridcolor\":\"white\",\"gridwidth\":2,\"linecolor\":\"white\",\"showbackground\":true,\"ticks\":\"\",\"zerolinecolor\":\"white\"},\"yaxis\":{\"backgroundcolor\":\"#E5ECF6\",\"gridcolor\":\"white\",\"gridwidth\":2,\"linecolor\":\"white\",\"showbackground\":true,\"ticks\":\"\",\"zerolinecolor\":\"white\"},\"zaxis\":{\"backgroundcolor\":\"#E5ECF6\",\"gridcolor\":\"white\",\"gridwidth\":2,\"linecolor\":\"white\",\"showbackground\":true,\"ticks\":\"\",\"zerolinecolor\":\"white\"}},\"shapedefaults\":{\"line\":{\"color\":\"#2a3f5f\"}},\"ternary\":{\"aaxis\":{\"gridcolor\":\"white\",\"linecolor\":\"white\",\"ticks\":\"\"},\"baxis\":{\"gridcolor\":\"white\",\"linecolor\":\"white\",\"ticks\":\"\"},\"bgcolor\":\"#E5ECF6\",\"caxis\":{\"gridcolor\":\"white\",\"linecolor\":\"white\",\"ticks\":\"\"}},\"title\":{\"x\":0.05},\"xaxis\":{\"automargin\":true,\"gridcolor\":\"white\",\"linecolor\":\"white\",\"ticks\":\"\",\"title\":{\"standoff\":15},\"zerolinecolor\":\"white\",\"zerolinewidth\":2},\"yaxis\":{\"automargin\":true,\"gridcolor\":\"white\",\"linecolor\":\"white\",\"ticks\":\"\",\"title\":{\"standoff\":15},\"zerolinecolor\":\"white\",\"zerolinewidth\":2}}},\"xaxis\":{\"anchor\":\"y\",\"domain\":[0.0,1.0],\"title\":{\"text\":\"iteration\"}},\"yaxis\":{\"anchor\":\"x\",\"domain\":[0.0,1.0],\"title\":{\"text\":\"fitness\"}},\"legend\":{\"tracegroupgap\":0},\"margin\":{\"t\":60}},                        {\"responsive\": true}                    ).then(function(){\n",
              "                            \n",
              "var gd = document.getElementById('35844d31-bccf-4cf9-b02d-802421dd5979');\n",
              "var x = new MutationObserver(function (mutations, observer) {{\n",
              "        var display = window.getComputedStyle(gd).display;\n",
              "        if (!display || display === 'none') {{\n",
              "            console.log([gd, 'removed!']);\n",
              "            Plotly.purge(gd);\n",
              "            observer.disconnect();\n",
              "        }}\n",
              "}});\n",
              "\n",
              "// Listen for the removal of the full notebook cells\n",
              "var notebookContainer = gd.closest('#notebook-container');\n",
              "if (notebookContainer) {{\n",
              "    x.observe(notebookContainer, {childList: true});\n",
              "}}\n",
              "\n",
              "// Listen for the clearing of the current output cell\n",
              "var outputEl = gd.closest('.output');\n",
              "if (outputEl) {{\n",
              "    x.observe(outputEl, {childList: true});\n",
              "}}\n",
              "\n",
              "                        })                };                            </script>        </div>\n",
              "</body>\n",
              "</html>"
            ]
          },
          "metadata": {}
        }
      ]
    },
    {
      "cell_type": "code",
      "source": [
        "import numpy as np\n",
        "a = 2.34\n",
        "a = np.float64(a)\n",
        "print(type(a))"
      ],
      "metadata": {
        "id": "qkFR5fnU8hjV",
        "colab": {
          "base_uri": "https://localhost:8080/"
        },
        "outputId": "988f3cb8-4233-4617-d7d2-c954d10ced65"
      },
      "execution_count": null,
      "outputs": [
        {
          "output_type": "stream",
          "name": "stdout",
          "text": [
            "<class 'numpy.float64'>\n"
          ]
        }
      ]
    }
  ]
}